{
  "nbformat": 4,
  "nbformat_minor": 0,
  "metadata": {
    "colab": {
      "name": "Count Based Word Vectors.ipynb",
      "provenance": [],
      "authorship_tag": "ABX9TyONsQ0eG5maED2sxGOMeMz7",
      "include_colab_link": true
    },
    "kernelspec": {
      "name": "python3",
      "display_name": "Python 3"
    }
  },
  "cells": [
    {
      "cell_type": "markdown",
      "metadata": {
        "id": "view-in-github",
        "colab_type": "text"
      },
      "source": [
        "<a href=\"https://colab.research.google.com/github/nin-ed/NLP-Algorithms/blob/main/Count_Based_Word_Vectors.ipynb\" target=\"_parent\"><img src=\"https://colab.research.google.com/assets/colab-badge.svg\" alt=\"Open In Colab\"/></a>"
      ]
    },
    {
      "cell_type": "code",
      "metadata": {
        "id": "gMJOjCqHensq"
      },
      "source": [
        "import nltk\n",
        "from nltk.corpus import reuters\n",
        "import numpy as np\n",
        "from sklearn.decomposition import TruncatedSVD\n",
        "import matplotlib.pyplot as plt"
      ],
      "execution_count": 34,
      "outputs": []
    },
    {
      "cell_type": "code",
      "metadata": {
        "id": "k7umZbscf4dK",
        "outputId": "b419d453-e293-49d2-f96b-54f51e0336f5",
        "colab": {
          "base_uri": "https://localhost:8080/",
          "height": 52
        }
      },
      "source": [
        "nltk.download('reuters')\n",
        "\n",
        "START_TOKEN = '<START>'\n",
        "END_TOKEN = '<END>'"
      ],
      "execution_count": 35,
      "outputs": [
        {
          "output_type": "stream",
          "text": [
            "[nltk_data] Downloading package reuters to /root/nltk_data...\n",
            "[nltk_data]   Package reuters is already up-to-date!\n"
          ],
          "name": "stdout"
        }
      ]
    },
    {
      "cell_type": "code",
      "metadata": {
        "id": "FXyG6TVoh824"
      },
      "source": [
        "def read_corpus(category=\"crude\"):\n",
        "  files = reuters.fileids(category)\n",
        "  return [[START_TOKEN]+[w.lower() for w in list(reuters.words(f))]+[END_TOKEN] for f in files]"
      ],
      "execution_count": 36,
      "outputs": []
    },
    {
      "cell_type": "code",
      "metadata": {
        "id": "pnDLIh7xiY1Y"
      },
      "source": [
        "def distinct_no_of_words(corpus):\n",
        "  words = [y for x in corpus for y in x]\n",
        "  words = sorted(list(set(words)))\n",
        "  n_words = len(words)\n",
        "  return words, n_words\n",
        "\n",
        "def co_occ_compute(corpus, win_size=4):\n",
        "  words, n_words = distinct_no_of_words(corpus)\n",
        "  mat = np.zeros((n_words, n_words))\n",
        "  word2idx = dict(zip(words, range(n_words)))\n",
        "  for doc in corpus:\n",
        "    for i in range(len(doc)):\n",
        "      start = max(i-win_size, 0)\n",
        "      end = min(i+win_size+1, len(doc))\n",
        "      context_words = doc[start:i] + doc[i:end]\n",
        "      for word in context_words:\n",
        "        mat[word2idx[word], word2idx[doc[i]]] += 1\n",
        "  return mat, word2idx"
      ],
      "execution_count": 37,
      "outputs": []
    },
    {
      "cell_type": "code",
      "metadata": {
        "id": "2BaimLYOlFUB"
      },
      "source": [
        "def reduce_to_n(mat, n=2):\n",
        "  iters = 10\n",
        "  svd = TruncatedSVD(n_components=n, n_iter=iters)\n",
        "  return svd.fit_transform(mat)"
      ],
      "execution_count": 38,
      "outputs": []
    },
    {
      "cell_type": "code",
      "metadata": {
        "id": "UGSumbnslk3-"
      },
      "source": [
        "def plot(mat, word2idx, words):\n",
        "  plt.figure(figsize=(10, 6))\n",
        "  for word in words:\n",
        "    i = word2idx[word]\n",
        "    emb = mat[i]\n",
        "    x, y = emb[0], emb[1]\n",
        "    plt.scatter(x, y, marker='x', color='red')\n",
        "    plt.text(x, y, word, fontsize=18)\n",
        "  plt.show()"
      ],
      "execution_count": 39,
      "outputs": []
    },
    {
      "cell_type": "code",
      "metadata": {
        "id": "rO42gT-OgqO6"
      },
      "source": [
        "def main():\n",
        "  corpus = read_corpus()\n",
        "  mat_co_occ, word2idx_co_occ = co_occ_compute(corpus)\n",
        "  mat_redu_co_occ = reduce_to_n(mat_co_occ, n=2)\n",
        "  mat_lengths = np.linalg.norm(mat_redu_co_occ, axis=1)\n",
        "  mat_norm = mat_redu_co_occ / mat_lengths[:, np.newaxis]\n",
        "\n",
        "  words = ['barrels', 'bpd', 'energy', 'industry', 'oil', 'petroleum', 'kuwait', 'venezuela', 'ecuador']\n",
        "  plot(mat_norm, word2idx_co_occ, words)"
      ],
      "execution_count": 40,
      "outputs": []
    },
    {
      "cell_type": "code",
      "metadata": {
        "id": "7-CvtHntmORa",
        "outputId": "1f2fa532-7218-420b-eb83-bf676c4369be",
        "colab": {
          "base_uri": "https://localhost:8080/",
          "height": 374
        }
      },
      "source": [
        "if __name__ == '__main__':\n",
        "  main()"
      ],
      "execution_count": 41,
      "outputs": [
        {
          "output_type": "display_data",
          "data": {
            "image/png": "[encoded data removed]",
            "text/plain": [
              "<Figure size 720x432 with 1 Axes>"
            ]
          },
          "metadata": {
            "tags": [],
            "needs_background": "light"
          }
        }
      ]
    },
    {
      "cell_type": "code",
      "metadata": {
        "id": "DGSEYREomT4D"
      },
      "source": [
        ""
      ],
      "execution_count": null,
      "outputs": []
    }
  ]
}