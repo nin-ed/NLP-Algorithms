{
  "nbformat": 4,
  "nbformat_minor": 0,
  "metadata": {
    "colab": {
      "name": "Prediction Based Word Vectors.ipynb",
      "provenance": [],
      "authorship_tag": "ABX9TyPZFgBxckBKD4HmdGnLZkzA",
      "include_colab_link": true
    },
    "kernelspec": {
      "name": "python3",
      "display_name": "Python 3"
    }
  },
  "cells": [
    {
      "cell_type": "markdown",
      "metadata": {
        "id": "view-in-github",
        "colab_type": "text"
      },
      "source": [
        "<a href=\"https://colab.research.google.com/github/nin-ed/NLP-Algorithms/blob/main/Prediction_Based_Word_Vectors.ipynb\" target=\"_parent\"><img src=\"https://colab.research.google.com/assets/colab-badge.svg\" alt=\"Open In Colab\"/></a>"
      ]
    },
    {
      "cell_type": "code",
      "metadata": {
        "id": "ZY7weHQUq9xE"
      },
      "source": [
        "import numpy as np\n",
        "import matplotlib.pyplot as plt\n",
        "from sklearn.decomposition import TruncatedSVD\n",
        "import random\n",
        "import gensim.downloader as api\n",
        "import pprint"
      ],
      "execution_count": 22,
      "outputs": []
    },
    {
      "cell_type": "code",
      "metadata": {
        "id": "8RA_VFHntq_Q"
      },
      "source": [
        "def load_model():\n",
        "  wv_bin = api.load(\"glove-wiki-gigaword-200\")\n",
        "  return wv_bin"
      ],
      "execution_count": 11,
      "outputs": []
    },
    {
      "cell_type": "code",
      "metadata": {
        "id": "x_XFi6MssgwU"
      },
      "source": [
        "def mat_of_vecs(wv_bin, req_words):\n",
        "  words = list(wv_bin.vocab.keys())\n",
        "  ## Shuffle\n",
        "  random.seed(224)\n",
        "  random.shuffle(words)\n",
        "  words = words[:10000]\n",
        "\n",
        "  word2idx = {}\n",
        "  mat = []\n",
        "  i = 0\n",
        "  for w in words:\n",
        "    try:\n",
        "      mat.append(wv_bin.word_vec(w))\n",
        "      word2idx[w] = i\n",
        "      i += 1\n",
        "    except KeyError:\n",
        "      continue\n",
        "  for w in req_words:\n",
        "    if w in words:\n",
        "      continue\n",
        "    try:\n",
        "      mat.append(wv_bin.word_vec(w))\n",
        "      word2idx[w] = i\n",
        "      i += 1\n",
        "    except KeyError:\n",
        "      continue\n",
        "  \n",
        "  mat = np.stack(mat)\n",
        "  return mat, word2idx"
      ],
      "execution_count": 12,
      "outputs": []
    },
    {
      "cell_type": "code",
      "metadata": {
        "id": "gDtt98cbsZJY"
      },
      "source": [
        "def reduce_to_n(mat, n=2):\n",
        "  iters = 10\n",
        "  svd = TruncatedSVD(n_components=n, n_iter=iters)\n",
        "  return svd.fit_transform(mat)"
      ],
      "execution_count": 13,
      "outputs": []
    },
    {
      "cell_type": "code",
      "metadata": {
        "id": "QTXD-BLRt9T6"
      },
      "source": [
        "def plot(mat, word2idx, words):\n",
        "  plt.figure(figsize=(10, 6))\n",
        "  for word in words:\n",
        "    i = word2idx[word]\n",
        "    emb = mat[i]\n",
        "    x, y = emb[0], emb[1]\n",
        "    plt.scatter(x, y, marker='x', color='red')\n",
        "    plt.text(x, y, word, fontsize=10)\n",
        "  plt.show()"
      ],
      "execution_count": 18,
      "outputs": []
    },
    {
      "cell_type": "code",
      "metadata": {
        "id": "x6jvfi5Ergqm",
        "outputId": "9174cde0-8142-4c94-ead4-864722c2421b",
        "colab": {
          "base_uri": "https://localhost:8080/",
          "height": 72
        }
      },
      "source": [
        "words = ['barrels', 'bpd', 'energy', 'industry', 'oil', 'petroleum', 'kuwait', 'venezuela', 'ecuador']\n",
        "\n",
        "wv_bin = load_model()\n",
        "mat, word2idx = mat_of_vecs(wv_bin, req_words=words)\n",
        "mat_reduced = reduce_to_n(mat, n=2)\n",
        "mat_red_lengths = np.linalg.norm(mat_reduced, axis=1)\n",
        "mat_red_norm = mat_reduced / mat_red_lengths[:, np.newaxis]"
      ],
      "execution_count": 20,
      "outputs": [
        {
          "output_type": "stream",
          "text": [
            "/usr/local/lib/python3.6/dist-packages/smart_open/smart_open_lib.py:252: UserWarning: This function is deprecated, use smart_open.open instead. See the migration notes for details: https://github.com/RaRe-Technologies/smart_open/blob/master/README.rst#migrating-to-the-new-open-function\n",
            "  'See the migration notes for details: %s' % _MIGRATION_NOTES_URL\n"
          ],
          "name": "stderr"
        }
      ]
    },
    {
      "cell_type": "code",
      "metadata": {
        "id": "YpUwGYjtvvFB",
        "outputId": "ca73d4b7-babc-43ee-a5d2-01e47d797ab4",
        "colab": {
          "base_uri": "https://localhost:8080/",
          "height": 374
        }
      },
      "source": [
        "plot(mat_red_norm, word2idx, words)"
      ],
      "execution_count": 21,
      "outputs": [
        {
          "output_type": "display_data",
          "data": {
            "image/png": "[encoded data removed]",
            "text/plain": [
              "<Figure size 720x432 with 1 Axes>"
            ]
          },
          "metadata": {
            "tags": [],
            "needs_background": "light"
          }
        }
      ]
    },
    {
      "cell_type": "code",
      "metadata": {
        "id": "pZzIKkM4t6J4",
        "outputId": "f597ecd7-ba10-49bd-e825-4fac453545cb",
        "colab": {
          "base_uri": "https://localhost:8080/",
          "height": 124
        }
      },
      "source": [
        "## Examples\n",
        "print(wv_bin.most_similar(\"chair\"))\n",
        "\n",
        "w1, w2, w3 = \"man\", \"king\", \"woman\"\n",
        "w1_w2_dist = wv_bin.distance(w1, w2)\n",
        "w1_w3_dist = wv_bin.distance(w1, w3)\n",
        "print(f\"Cosine distance between {w1} and {w2} (Synonyms): {w1_w2_dist}\")\n",
        "print(f\"Cosine distance between {w1} and {w3} (Antonyms): {w1_w3_dist}\")"
      ],
      "execution_count": 17,
      "outputs": [
        {
          "output_type": "stream",
          "text": [
            "[('chairs', 0.7992520332336426), ('sitting', 0.5966616868972778), ('head', 0.5494985580444336), ('seat', 0.5444086790084839), ('sits', 0.5396796464920044), ('sit', 0.5316585302352905), ('sat', 0.531306266784668), ('chaired', 0.5231366157531738), ('panel', 0.5091919898986816), ('board', 0.503804624080658)]\n",
            "Cosine distance between man and king (Synonyms): 0.6073077917098999\n",
            "Cosine distance between man and woman (Antonyms): 0.2479914426803589\n"
          ],
          "name": "stdout"
        },
        {
          "output_type": "stream",
          "text": [
            "/usr/local/lib/python3.6/dist-packages/gensim/matutils.py:737: FutureWarning: Conversion of the second argument of issubdtype from `int` to `np.signedinteger` is deprecated. In future, it will be treated as `np.int64 == np.dtype(int).type`.\n",
            "  if np.issubdtype(vec.dtype, np.int):\n"
          ],
          "name": "stderr"
        }
      ]
    },
    {
      "cell_type": "code",
      "metadata": {
        "id": "d-AtQ8LDvjs7",
        "outputId": "c6392687-fc53-4dad-dbf8-42341cc8781e",
        "colab": {
          "base_uri": "https://localhost:8080/",
          "height": 436
        }
      },
      "source": [
        "## Success\n",
        "pprint.pprint(wv_bin.most_similar(positive=['woman', 'king'], negative=['man']))\n",
        "print()\n",
        "\n",
        "## Failure\n",
        "pprint.pprint(wv_bin.most_similar(positive=['boat', 'car'], negative=['water']))"
      ],
      "execution_count": 29,
      "outputs": [
        {
          "output_type": "stream",
          "text": [
            "[('queen', 0.6978678703308105),\n",
            " ('princess', 0.6081745028495789),\n",
            " ('monarch', 0.5889754891395569),\n",
            " ('throne', 0.5775108933448792),\n",
            " ('prince', 0.5750998854637146),\n",
            " ('elizabeth', 0.546359658241272),\n",
            " ('daughter', 0.5399125814437866),\n",
            " ('kingdom', 0.5318052768707275),\n",
            " ('mother', 0.5168544054031372),\n",
            " ('crown', 0.5164472460746765)]\n",
            "\n",
            "[('truck', 0.613091230392456),\n",
            " ('driver', 0.6065701246261597),\n",
            " ('vehicle', 0.6027729511260986),\n",
            " ('motorcycle', 0.5669286251068115),\n",
            " ('cars', 0.5633612871170044),\n",
            " ('parked', 0.5314751863479614),\n",
            " ('motorbike', 0.530342698097229),\n",
            " ('bus', 0.5072823762893677),\n",
            " ('minivan', 0.4997798204421997),\n",
            " ('taxi', 0.49742624163627625)]\n"
          ],
          "name": "stdout"
        },
        {
          "output_type": "stream",
          "text": [
            "/usr/local/lib/python3.6/dist-packages/gensim/matutils.py:737: FutureWarning: Conversion of the second argument of issubdtype from `int` to `np.signedinteger` is deprecated. In future, it will be treated as `np.int64 == np.dtype(int).type`.\n",
            "  if np.issubdtype(vec.dtype, np.int):\n"
          ],
          "name": "stderr"
        }
      ]
    },
    {
      "cell_type": "code",
      "metadata": {
        "id": "WDrEsTrpwJkC"
      },
      "source": [
        ""
      ],
      "execution_count": null,
      "outputs": []
    }
  ]
}